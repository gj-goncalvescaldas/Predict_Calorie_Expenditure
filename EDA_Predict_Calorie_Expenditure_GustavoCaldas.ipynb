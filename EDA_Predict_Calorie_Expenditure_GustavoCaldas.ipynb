{
 "cells": [
  {
   "cell_type": "code",
   "execution_count": 0,
   "metadata": {
    "application/vnd.databricks.v1+cell": {
     "cellMetadata": {
      "byteLimit": 2048000,
      "rowLimit": 10000
     },
     "inputWidgets": {},
     "nuid": "a534e5ff-fbfc-4433-bcb0-0af71bae76fd",
     "showTitle": false,
     "tableResultSettingsMap": {},
     "title": ""
    }
   },
   "outputs": [
    {
     "output_type": "display_data",
     "data": {
      "text/html": [
       "<style scoped>\n",
       "  .table-result-container {\n",
       "    max-height: 300px;\n",
       "    overflow: auto;\n",
       "  }\n",
       "  table, th, td {\n",
       "    border: 1px solid black;\n",
       "    border-collapse: collapse;\n",
       "  }\n",
       "  th, td {\n",
       "    padding: 5px;\n",
       "  }\n",
       "  th {\n",
       "    text-align: left;\n",
       "  }\n",
       "</style><div class='table-result-container'><table class='table-result'><thead style='background-color: white'><tr><th>path</th><th>name</th><th>size</th><th>modificationTime</th></tr></thead><tbody><tr><td>dbfs:/FileStore/tables/Rossmann_DE.csv</td><td>Rossmann_DE.csv</td><td>16640</td><td>1747167784000</td></tr><tr><td>dbfs:/FileStore/tables/Rossmann_DE_BE-1.csv</td><td>Rossmann_DE_BE-1.csv</td><td>16562</td><td>1747168916000</td></tr><tr><td>dbfs:/FileStore/tables/Rossmann_DE_BE.csv</td><td>Rossmann_DE_BE.csv</td><td>16562</td><td>1747167784000</td></tr><tr><td>dbfs:/FileStore/tables/Rossmann_DE_BW-1.csv</td><td>Rossmann_DE_BW-1.csv</td><td>16518</td><td>1747168916000</td></tr><tr><td>dbfs:/FileStore/tables/Rossmann_DE_BW.csv</td><td>Rossmann_DE_BW.csv</td><td>16518</td><td>1747167787000</td></tr><tr><td>dbfs:/FileStore/tables/Rossmann_DE_BY-1.csv</td><td>Rossmann_DE_BY-1.csv</td><td>16588</td><td>1747168914000</td></tr><tr><td>dbfs:/FileStore/tables/Rossmann_DE_BY.csv</td><td>Rossmann_DE_BY.csv</td><td>16588</td><td>1747167787000</td></tr><tr><td>dbfs:/FileStore/tables/Rossmann_DE_HB-1.csv</td><td>Rossmann_DE_HB-1.csv</td><td>16472</td><td>1747168914000</td></tr><tr><td>dbfs:/FileStore/tables/Rossmann_DE_HB.csv</td><td>Rossmann_DE_HB.csv</td><td>16472</td><td>1747167787000</td></tr><tr><td>dbfs:/FileStore/tables/Rossmann_DE_HE-1.csv</td><td>Rossmann_DE_HE-1.csv</td><td>16587</td><td>1747168914000</td></tr><tr><td>dbfs:/FileStore/tables/Rossmann_DE_HE.csv</td><td>Rossmann_DE_HE.csv</td><td>16587</td><td>1747167787000</td></tr><tr><td>dbfs:/FileStore/tables/Rossmann_DE_HH-1.csv</td><td>Rossmann_DE_HH-1.csv</td><td>16520</td><td>1747168914000</td></tr><tr><td>dbfs:/FileStore/tables/Rossmann_DE_HH.csv</td><td>Rossmann_DE_HH.csv</td><td>16520</td><td>1747167787000</td></tr><tr><td>dbfs:/FileStore/tables/Rossmann_DE_NW-1.csv</td><td>Rossmann_DE_NW-1.csv</td><td>16635</td><td>1747168915000</td></tr><tr><td>dbfs:/FileStore/tables/Rossmann_DE_NW.csv</td><td>Rossmann_DE_NW.csv</td><td>16635</td><td>1747167787000</td></tr><tr><td>dbfs:/FileStore/tables/Rossmann_DE_RP-1.csv</td><td>Rossmann_DE_RP-1.csv</td><td>16330</td><td>1747168915000</td></tr><tr><td>dbfs:/FileStore/tables/Rossmann_DE_RP.csv</td><td>Rossmann_DE_RP.csv</td><td>16330</td><td>1747167788000</td></tr><tr><td>dbfs:/FileStore/tables/Rossmann_DE_SH-1.csv</td><td>Rossmann_DE_SH-1.csv</td><td>16432</td><td>1747168915000</td></tr><tr><td>dbfs:/FileStore/tables/Rossmann_DE_SH.csv</td><td>Rossmann_DE_SH.csv</td><td>16432</td><td>1747167788000</td></tr><tr><td>dbfs:/FileStore/tables/Rossmann_DE_SN-1.csv</td><td>Rossmann_DE_SN-1.csv</td><td>16523</td><td>1747168915000</td></tr><tr><td>dbfs:/FileStore/tables/Rossmann_DE_SN.csv</td><td>Rossmann_DE_SN.csv</td><td>16523</td><td>1747167788000</td></tr><tr><td>dbfs:/FileStore/tables/Rossmann_DE_ST-1.csv</td><td>Rossmann_DE_ST-1.csv</td><td>16431</td><td>1747168915000</td></tr><tr><td>dbfs:/FileStore/tables/Rossmann_DE_ST.csv</td><td>Rossmann_DE_ST.csv</td><td>16431</td><td>1747167788000</td></tr><tr><td>dbfs:/FileStore/tables/Rossmann_DE_TH-1.csv</td><td>Rossmann_DE_TH-1.csv</td><td>16351</td><td>1747168915000</td></tr><tr><td>dbfs:/FileStore/tables/Rossmann_DE_TH.csv</td><td>Rossmann_DE_TH.csv</td><td>16351</td><td>1747167789000</td></tr><tr><td>dbfs:/FileStore/tables/sample_submission.csv</td><td>sample_submission.csv</td><td>317611</td><td>1747167789000</td></tr><tr><td>dbfs:/FileStore/tables/store-1.csv</td><td>store-1.csv</td><td>45010</td><td>1747156726000</td></tr><tr><td>dbfs:/FileStore/tables/store-2.csv</td><td>store-2.csv</td><td>45010</td><td>1747167775000</td></tr><tr><td>dbfs:/FileStore/tables/store.csv</td><td>store.csv</td><td>45010</td><td>1747156408000</td></tr><tr><td>dbfs:/FileStore/tables/store_states.csv</td><td>store_states.csv</td><td>9051</td><td>1747167775000</td></tr><tr><td>dbfs:/FileStore/tables/test-1.csv</td><td>test-1.csv</td><td>1427425</td><td>1747156734000</td></tr><tr><td>dbfs:/FileStore/tables/test-2.csv</td><td>test-2.csv</td><td>1427425</td><td>1747167783000</td></tr><tr><td>dbfs:/FileStore/tables/test-3.csv</td><td>test-3.csv</td><td>10524308</td><td>1747668967000</td></tr><tr><td>dbfs:/FileStore/tables/test.csv</td><td>test.csv</td><td>1427425</td><td>1747156416000</td></tr><tr><td>dbfs:/FileStore/tables/train-1.csv</td><td>train-1.csv</td><td>38057952</td><td>1747156848000</td></tr><tr><td>dbfs:/FileStore/tables/train-2.csv</td><td>train-2.csv</td><td>35463548</td><td>1747669055000</td></tr><tr><td>dbfs:/FileStore/tables/train.csv</td><td>train.csv</td><td>38057952</td><td>1747156524000</td></tr></tbody></table></div>"
      ]
     },
     "metadata": {
      "application/vnd.databricks.v1+output": {
       "addedWidgets": {},
       "aggData": [],
       "aggError": "",
       "aggOverflow": false,
       "aggSchema": [],
       "aggSeriesLimitReached": false,
       "aggType": "",
       "arguments": {},
       "columnCustomDisplayInfos": {},
       "data": [
        [
         "dbfs:/FileStore/tables/Rossmann_DE.csv",
         "Rossmann_DE.csv",
         16640,
         1747167784000
        ],
        [
         "dbfs:/FileStore/tables/Rossmann_DE_BE-1.csv",
         "Rossmann_DE_BE-1.csv",
         16562,
         1747168916000
        ],
        [
         "dbfs:/FileStore/tables/Rossmann_DE_BE.csv",
         "Rossmann_DE_BE.csv",
         16562,
         1747167784000
        ],
        [
         "dbfs:/FileStore/tables/Rossmann_DE_BW-1.csv",
         "Rossmann_DE_BW-1.csv",
         16518,
         1747168916000
        ],
        [
         "dbfs:/FileStore/tables/Rossmann_DE_BW.csv",
         "Rossmann_DE_BW.csv",
         16518,
         1747167787000
        ],
        [
         "dbfs:/FileStore/tables/Rossmann_DE_BY-1.csv",
         "Rossmann_DE_BY-1.csv",
         16588,
         1747168914000
        ],
        [
         "dbfs:/FileStore/tables/Rossmann_DE_BY.csv",
         "Rossmann_DE_BY.csv",
         16588,
         1747167787000
        ],
        [
         "dbfs:/FileStore/tables/Rossmann_DE_HB-1.csv",
         "Rossmann_DE_HB-1.csv",
         16472,
         1747168914000
        ],
        [
         "dbfs:/FileStore/tables/Rossmann_DE_HB.csv",
         "Rossmann_DE_HB.csv",
         16472,
         1747167787000
        ],
        [
         "dbfs:/FileStore/tables/Rossmann_DE_HE-1.csv",
         "Rossmann_DE_HE-1.csv",
         16587,
         1747168914000
        ],
        [
         "dbfs:/FileStore/tables/Rossmann_DE_HE.csv",
         "Rossmann_DE_HE.csv",
         16587,
         1747167787000
        ],
        [
         "dbfs:/FileStore/tables/Rossmann_DE_HH-1.csv",
         "Rossmann_DE_HH-1.csv",
         16520,
         1747168914000
        ],
        [
         "dbfs:/FileStore/tables/Rossmann_DE_HH.csv",
         "Rossmann_DE_HH.csv",
         16520,
         1747167787000
        ],
        [
         "dbfs:/FileStore/tables/Rossmann_DE_NW-1.csv",
         "Rossmann_DE_NW-1.csv",
         16635,
         1747168915000
        ],
        [
         "dbfs:/FileStore/tables/Rossmann_DE_NW.csv",
         "Rossmann_DE_NW.csv",
         16635,
         1747167787000
        ],
        [
         "dbfs:/FileStore/tables/Rossmann_DE_RP-1.csv",
         "Rossmann_DE_RP-1.csv",
         16330,
         1747168915000
        ],
        [
         "dbfs:/FileStore/tables/Rossmann_DE_RP.csv",
         "Rossmann_DE_RP.csv",
         16330,
         1747167788000
        ],
        [
         "dbfs:/FileStore/tables/Rossmann_DE_SH-1.csv",
         "Rossmann_DE_SH-1.csv",
         16432,
         1747168915000
        ],
        [
         "dbfs:/FileStore/tables/Rossmann_DE_SH.csv",
         "Rossmann_DE_SH.csv",
         16432,
         1747167788000
        ],
        [
         "dbfs:/FileStore/tables/Rossmann_DE_SN-1.csv",
         "Rossmann_DE_SN-1.csv",
         16523,
         1747168915000
        ],
        [
         "dbfs:/FileStore/tables/Rossmann_DE_SN.csv",
         "Rossmann_DE_SN.csv",
         16523,
         1747167788000
        ],
        [
         "dbfs:/FileStore/tables/Rossmann_DE_ST-1.csv",
         "Rossmann_DE_ST-1.csv",
         16431,
         1747168915000
        ],
        [
         "dbfs:/FileStore/tables/Rossmann_DE_ST.csv",
         "Rossmann_DE_ST.csv",
         16431,
         1747167788000
        ],
        [
         "dbfs:/FileStore/tables/Rossmann_DE_TH-1.csv",
         "Rossmann_DE_TH-1.csv",
         16351,
         1747168915000
        ],
        [
         "dbfs:/FileStore/tables/Rossmann_DE_TH.csv",
         "Rossmann_DE_TH.csv",
         16351,
         1747167789000
        ],
        [
         "dbfs:/FileStore/tables/sample_submission.csv",
         "sample_submission.csv",
         317611,
         1747167789000
        ],
        [
         "dbfs:/FileStore/tables/store-1.csv",
         "store-1.csv",
         45010,
         1747156726000
        ],
        [
         "dbfs:/FileStore/tables/store-2.csv",
         "store-2.csv",
         45010,
         1747167775000
        ],
        [
         "dbfs:/FileStore/tables/store.csv",
         "store.csv",
         45010,
         1747156408000
        ],
        [
         "dbfs:/FileStore/tables/store_states.csv",
         "store_states.csv",
         9051,
         1747167775000
        ],
        [
         "dbfs:/FileStore/tables/test-1.csv",
         "test-1.csv",
         1427425,
         1747156734000
        ],
        [
         "dbfs:/FileStore/tables/test-2.csv",
         "test-2.csv",
         1427425,
         1747167783000
        ],
        [
         "dbfs:/FileStore/tables/test-3.csv",
         "test-3.csv",
         10524308,
         1747668967000
        ],
        [
         "dbfs:/FileStore/tables/test.csv",
         "test.csv",
         1427425,
         1747156416000
        ],
        [
         "dbfs:/FileStore/tables/train-1.csv",
         "train-1.csv",
         38057952,
         1747156848000
        ],
        [
         "dbfs:/FileStore/tables/train-2.csv",
         "train-2.csv",
         35463548,
         1747669055000
        ],
        [
         "dbfs:/FileStore/tables/train.csv",
         "train.csv",
         38057952,
         1747156524000
        ]
       ],
       "datasetInfos": [],
       "dbfsResultPath": null,
       "isJsonSchema": true,
       "metadata": {
        "isDbfsCommandResult": false
       },
       "overflow": false,
       "plotOptions": {
        "customPlotOptions": {},
        "displayType": "table",
        "pivotAggregation": null,
        "pivotColumns": null,
        "xColumns": null,
        "yColumns": null
       },
       "removedWidgets": [],
       "schema": [
        {
         "metadata": "{}",
         "name": "path",
         "type": "\"string\""
        },
        {
         "metadata": "{}",
         "name": "name",
         "type": "\"string\""
        },
        {
         "metadata": "{}",
         "name": "size",
         "type": "\"long\""
        },
        {
         "metadata": "{}",
         "name": "modificationTime",
         "type": "\"long\""
        }
       ],
       "type": "table"
      }
     },
     "output_type": "display_data"
    }
   ],
   "source": [
    "%fs\n",
    "ls /FileStore/tables"
   ]
  },
  {
   "cell_type": "code",
   "execution_count": 0,
   "metadata": {
    "application/vnd.databricks.v1+cell": {
     "cellMetadata": {
      "byteLimit": 2048000,
      "rowLimit": 10000
     },
     "inputWidgets": {},
     "nuid": "f749b779-e8c5-48a0-ade4-f84b55681c97",
     "showTitle": false,
     "tableResultSettingsMap": {},
     "title": ""
    }
   },
   "outputs": [
    {
     "output_type": "display_data",
     "data": {
      "text/html": [
       "<style scoped>\n",
       "  .table-result-container {\n",
       "    max-height: 300px;\n",
       "    overflow: auto;\n",
       "  }\n",
       "  table, th, td {\n",
       "    border: 1px solid black;\n",
       "    border-collapse: collapse;\n",
       "  }\n",
       "  th, td {\n",
       "    padding: 5px;\n",
       "  }\n",
       "  th {\n",
       "    text-align: left;\n",
       "  }\n",
       "</style><div class='table-result-container'><table class='table-result'><thead style='background-color: white'><tr><th>id</th><th>Sex</th><th>Age</th><th>Height</th><th>Weight</th><th>Duration</th><th>Heart_Rate</th><th>Body_Temp</th><th>Calories</th></tr></thead><tbody><tr><td>0</td><td>male</td><td>36</td><td>189.0</td><td>82.0</td><td>26.0</td><td>101.0</td><td>41.0</td><td>150.0</td></tr></tbody></table></div>"
      ]
     },
     "metadata": {
      "application/vnd.databricks.v1+output": {
       "addedWidgets": {},
       "aggData": [],
       "aggError": "",
       "aggOverflow": false,
       "aggSchema": [],
       "aggSeriesLimitReached": false,
       "aggType": "",
       "arguments": {},
       "columnCustomDisplayInfos": {},
       "data": [
        [
         0,
         "male",
         36,
         189.0,
         82.0,
         26.0,
         101.0,
         41.0,
         150.0
        ]
       ],
       "datasetInfos": [],
       "dbfsResultPath": null,
       "isJsonSchema": true,
       "metadata": {},
       "overflow": false,
       "plotOptions": {
        "customPlotOptions": {},
        "displayType": "table",
        "pivotAggregation": null,
        "pivotColumns": null,
        "xColumns": null,
        "yColumns": null
       },
       "removedWidgets": [],
       "schema": [
        {
         "metadata": "{}",
         "name": "id",
         "type": "\"long\""
        },
        {
         "metadata": "{}",
         "name": "Sex",
         "type": "\"string\""
        },
        {
         "metadata": "{}",
         "name": "Age",
         "type": "\"long\""
        },
        {
         "metadata": "{}",
         "name": "Height",
         "type": "\"double\""
        },
        {
         "metadata": "{}",
         "name": "Weight",
         "type": "\"double\""
        },
        {
         "metadata": "{}",
         "name": "Duration",
         "type": "\"double\""
        },
        {
         "metadata": "{}",
         "name": "Heart_Rate",
         "type": "\"double\""
        },
        {
         "metadata": "{}",
         "name": "Body_Temp",
         "type": "\"double\""
        },
        {
         "metadata": "{}",
         "name": "Calories",
         "type": "\"double\""
        }
       ],
       "type": "table"
      }
     },
     "output_type": "display_data"
    },
    {
     "output_type": "stream",
     "name": "stdout",
     "output_type": "stream",
     "text": [
      "root\n |-- id: integer (nullable = true)\n |-- Sex: string (nullable = true)\n |-- Age: integer (nullable = true)\n |-- Height: double (nullable = true)\n |-- Weight: double (nullable = true)\n |-- Duration: double (nullable = true)\n |-- Heart_Rate: double (nullable = true)\n |-- Body_Temp: double (nullable = true)\n |-- Calories: double (nullable = true)\n\n"
     ]
    }
   ],
   "source": [
    "df = spark.read.option(\"Header\", True).option(\"InferSchema\", True).csv('/FileStore/tables/train-2.csv')\n",
    "display(df.head(1))\n",
    "df.printSchema()"
   ]
  },
  {
   "cell_type": "code",
   "execution_count": 0,
   "metadata": {
    "application/vnd.databricks.v1+cell": {
     "cellMetadata": {
      "byteLimit": 2048000,
      "rowLimit": 10000
     },
     "inputWidgets": {},
     "nuid": "7d6a4356-8d0a-46d1-9d7c-08f9143469a5",
     "showTitle": false,
     "tableResultSettingsMap": {},
     "title": ""
    }
   },
   "outputs": [
    {
     "output_type": "display_data",
     "data": {
      "text/html": [
       "<style scoped>\n",
       "  .table-result-container {\n",
       "    max-height: 300px;\n",
       "    overflow: auto;\n",
       "  }\n",
       "  table, th, td {\n",
       "    border: 1px solid black;\n",
       "    border-collapse: collapse;\n",
       "  }\n",
       "  th, td {\n",
       "    padding: 5px;\n",
       "  }\n",
       "  th {\n",
       "    text-align: left;\n",
       "  }\n",
       "</style><div class='table-result-container'><table class='table-result'><thead style='background-color: white'><tr><th>id</th><th>Sex</th><th>Age</th><th>Height</th><th>Weight</th><th>Duration</th><th>Heart_Rate</th><th>Body_Temp</th></tr></thead><tbody><tr><td>750000</td><td>male</td><td>45</td><td>177.0</td><td>81.0</td><td>7.0</td><td>87.0</td><td>39.8</td></tr></tbody></table></div>"
      ]
     },
     "metadata": {
      "application/vnd.databricks.v1+output": {
       "addedWidgets": {},
       "aggData": [],
       "aggError": "",
       "aggOverflow": false,
       "aggSchema": [],
       "aggSeriesLimitReached": false,
       "aggType": "",
       "arguments": {},
       "columnCustomDisplayInfos": {},
       "data": [
        [
         750000,
         "male",
         45,
         177.0,
         81.0,
         7.0,
         87.0,
         39.8
        ]
       ],
       "datasetInfos": [],
       "dbfsResultPath": null,
       "isJsonSchema": true,
       "metadata": {},
       "overflow": false,
       "plotOptions": {
        "customPlotOptions": {},
        "displayType": "table",
        "pivotAggregation": null,
        "pivotColumns": null,
        "xColumns": null,
        "yColumns": null
       },
       "removedWidgets": [],
       "schema": [
        {
         "metadata": "{}",
         "name": "id",
         "type": "\"long\""
        },
        {
         "metadata": "{}",
         "name": "Sex",
         "type": "\"string\""
        },
        {
         "metadata": "{}",
         "name": "Age",
         "type": "\"long\""
        },
        {
         "metadata": "{}",
         "name": "Height",
         "type": "\"double\""
        },
        {
         "metadata": "{}",
         "name": "Weight",
         "type": "\"double\""
        },
        {
         "metadata": "{}",
         "name": "Duration",
         "type": "\"double\""
        },
        {
         "metadata": "{}",
         "name": "Heart_Rate",
         "type": "\"double\""
        },
        {
         "metadata": "{}",
         "name": "Body_Temp",
         "type": "\"double\""
        }
       ],
       "type": "table"
      }
     },
     "output_type": "display_data"
    },
    {
     "output_type": "stream",
     "name": "stdout",
     "output_type": "stream",
     "text": [
      "root\n |-- id: integer (nullable = true)\n |-- Sex: string (nullable = true)\n |-- Age: integer (nullable = true)\n |-- Height: double (nullable = true)\n |-- Weight: double (nullable = true)\n |-- Duration: double (nullable = true)\n |-- Heart_Rate: double (nullable = true)\n |-- Body_Temp: double (nullable = true)\n\n"
     ]
    }
   ],
   "source": [
    "df_test = spark.read.option(\"Header\", True).option(\"InferSchema\", True).csv('/FileStore/tables/test-3.csv')\n",
    "display(df_test.head(1))\n",
    "df_test.printSchema()"
   ]
  },
  {
   "cell_type": "code",
   "execution_count": 0,
   "metadata": {
    "application/vnd.databricks.v1+cell": {
     "cellMetadata": {},
     "inputWidgets": {},
     "nuid": "038352d2-95e0-4fa0-a4dd-20d1517f8c54",
     "showTitle": false,
     "tableResultSettingsMap": {},
     "title": ""
    }
   },
   "outputs": [],
   "source": []
  }
 ],
 "metadata": {
  "application/vnd.databricks.v1+notebook": {
   "computePreferences": null,
   "dashboards": [],
   "environmentMetadata": {
    "base_environment": "",
    "environment_version": "1"
   },
   "inputWidgetPreferences": null,
   "language": "python",
   "notebookMetadata": {
    "mostRecentlyExecutedCommandWithImplicitDF": {
     "commandId": 3730418230000032,
     "dataframes": [
      "_sqldf"
     ]
    },
    "pythonIndentUnit": 4
   },
   "notebookName": "EDA_Predict_Calorie_Expenditure_GustavoCaldas",
   "widgets": {}
  }
 },
 "nbformat": 4,
 "nbformat_minor": 0
}